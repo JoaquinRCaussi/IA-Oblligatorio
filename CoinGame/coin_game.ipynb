{
 "cells": [
  {
   "cell_type": "code",
   "execution_count": 12,
   "metadata": {},
   "outputs": [],
   "source": [
    "#pip3 install tabulate\n",
    "from coin_game_env import CoinGameEnv\n",
    "from input_agent import InputAgent\n",
    "from random_agent import RandomAgent\n",
    "from play import play_vs_other_agent\n",
    "from UONI import UONI"
   ]
  },
  {
   "cell_type": "code",
   "execution_count": 13,
   "metadata": {},
   "outputs": [],
   "source": [
    "env = CoinGameEnv(grid_size=5)\n",
    "input_agent = InputAgent()"
   ]
  },
  {
   "cell_type": "markdown",
   "metadata": {},
   "source": [
    "Input Agents"
   ]
  },
  {
   "cell_type": "code",
   "execution_count": null,
   "metadata": {},
   "outputs": [],
   "source": [
    "play_vs_other_agent(env, agent1=input_agent, agent2=input_agent, render=True)"
   ]
  },
  {
   "cell_type": "markdown",
   "metadata": {},
   "source": [
    "Random Agents"
   ]
  },
  {
   "cell_type": "code",
   "execution_count": 11,
   "metadata": {},
   "outputs": [
    {
     "name": "stdout",
     "output_type": "stream",
     "text": [
      "+-----+-----+-----+-----+-----+-----+-----+-----+-----+-----+\n",
      "|     | 0   | 1   | 2   | 3   | 4   | 5   | 6   | 7   | 8   |\n",
      "+=====+=====+=====+=====+=====+=====+=====+=====+=====+=====+\n",
      "|   0 |     |     |     |     | O   |     |     |     |     |\n",
      "+-----+-----+-----+-----+-----+-----+-----+-----+-----+-----+\n",
      "|   1 |     |     |     | O   | O   | O   |     |     |     |\n",
      "+-----+-----+-----+-----+-----+-----+-----+-----+-----+-----+\n",
      "|   2 |     |     | O   | O   | O   | O   | O   |     |     |\n",
      "+-----+-----+-----+-----+-----+-----+-----+-----+-----+-----+\n",
      "|   3 |     |     | O   | O   | O   | O   | O   | O   |     |\n",
      "+-----+-----+-----+-----+-----+-----+-----+-----+-----+-----+\n",
      "|   4 | O   | O   | O   | O   | O   | O   | O   | O   | O   |\n",
      "+-----+-----+-----+-----+-----+-----+-----+-----+-----+-----+\n",
      "+-----+-----+-----+-----+-----+-----+-----+-----+-----+-----+\n",
      "|     | 0   | 1   | 2   | 3   | 4   | 5   | 6   | 7   | 8   |\n",
      "+=====+=====+=====+=====+=====+=====+=====+=====+=====+=====+\n",
      "|   0 |     |     |     |     | O   |     |     |     |     |\n",
      "+-----+-----+-----+-----+-----+-----+-----+-----+-----+-----+\n",
      "|   1 |     |     |     | O   | O   | O   |     |     |     |\n",
      "+-----+-----+-----+-----+-----+-----+-----+-----+-----+-----+\n",
      "|   2 |     |     | O   | O   | O   | O   | O   |     |     |\n",
      "+-----+-----+-----+-----+-----+-----+-----+-----+-----+-----+\n",
      "|   3 |     |     | O   | O   | O   | O   | O   | O   |     |\n",
      "+-----+-----+-----+-----+-----+-----+-----+-----+-----+-----+\n",
      "|   4 | O   |     | O   | O   | O   | O   | O   | O   | O   |\n",
      "+-----+-----+-----+-----+-----+-----+-----+-----+-----+-----+\n",
      "+-----+-----+-----+-----+-----+-----+-----+-----+-----+-----+\n",
      "|     | 0   | 1   | 2   | 3   | 4   | 5   | 6   | 7   | 8   |\n",
      "+=====+=====+=====+=====+=====+=====+=====+=====+=====+=====+\n",
      "|   0 |     |     |     |     | O   |     |     |     |     |\n",
      "+-----+-----+-----+-----+-----+-----+-----+-----+-----+-----+\n",
      "|   1 |     |     |     | O   | O   | O   |     |     |     |\n",
      "+-----+-----+-----+-----+-----+-----+-----+-----+-----+-----+\n",
      "|   2 |     |     | O   | O   | O   | O   | O   |     |     |\n",
      "+-----+-----+-----+-----+-----+-----+-----+-----+-----+-----+\n",
      "|   3 |     |     | O   | O   |     |     |     |     |     |\n",
      "+-----+-----+-----+-----+-----+-----+-----+-----+-----+-----+\n",
      "|   4 | O   |     | O   | O   | O   | O   | O   | O   | O   |\n",
      "+-----+-----+-----+-----+-----+-----+-----+-----+-----+-----+\n",
      "+-----+-----+-----+-----+-----+-----+-----+-----+-----+-----+\n",
      "|     | 0   | 1   | 2   | 3   | 4   | 5   | 6   | 7   | 8   |\n",
      "+=====+=====+=====+=====+=====+=====+=====+=====+=====+=====+\n",
      "|   0 |     |     |     |     | O   |     |     |     |     |\n",
      "+-----+-----+-----+-----+-----+-----+-----+-----+-----+-----+\n",
      "|   1 |     |     |     | O   | O   | O   |     |     |     |\n",
      "+-----+-----+-----+-----+-----+-----+-----+-----+-----+-----+\n",
      "|   2 |     |     | O   | O   |     | O   | O   |     |     |\n",
      "+-----+-----+-----+-----+-----+-----+-----+-----+-----+-----+\n",
      "|   3 |     |     | O   | O   |     |     |     |     |     |\n",
      "+-----+-----+-----+-----+-----+-----+-----+-----+-----+-----+\n",
      "|   4 | O   |     | O   | O   | O   | O   | O   | O   | O   |\n",
      "+-----+-----+-----+-----+-----+-----+-----+-----+-----+-----+\n",
      "+-----+-----+-----+-----+-----+-----+-----+-----+-----+-----+\n",
      "|     | 0   | 1   | 2   | 3   | 4   | 5   | 6   | 7   | 8   |\n",
      "+=====+=====+=====+=====+=====+=====+=====+=====+=====+=====+\n",
      "|   0 |     |     |     |     | O   |     |     |     |     |\n",
      "+-----+-----+-----+-----+-----+-----+-----+-----+-----+-----+\n",
      "|   1 |     |     |     | O   | O   | O   |     |     |     |\n",
      "+-----+-----+-----+-----+-----+-----+-----+-----+-----+-----+\n",
      "|   2 |     |     | O   | O   |     | O   | O   |     |     |\n",
      "+-----+-----+-----+-----+-----+-----+-----+-----+-----+-----+\n",
      "|   3 |     |     | O   | O   |     |     |     |     |     |\n",
      "+-----+-----+-----+-----+-----+-----+-----+-----+-----+-----+\n",
      "|   4 | O   |     |     |     |     |     | O   | O   | O   |\n",
      "+-----+-----+-----+-----+-----+-----+-----+-----+-----+-----+\n",
      "+-----+-----+-----+-----+-----+-----+-----+-----+-----+-----+\n",
      "|     | 0   | 1   | 2   | 3   | 4   | 5   | 6   | 7   | 8   |\n",
      "+=====+=====+=====+=====+=====+=====+=====+=====+=====+=====+\n",
      "|   0 |     |     |     |     | O   |     |     |     |     |\n",
      "+-----+-----+-----+-----+-----+-----+-----+-----+-----+-----+\n",
      "|   1 |     |     |     |     |     | O   |     |     |     |\n",
      "+-----+-----+-----+-----+-----+-----+-----+-----+-----+-----+\n",
      "|   2 |     |     | O   | O   |     | O   | O   |     |     |\n",
      "+-----+-----+-----+-----+-----+-----+-----+-----+-----+-----+\n",
      "|   3 |     |     | O   | O   |     |     |     |     |     |\n",
      "+-----+-----+-----+-----+-----+-----+-----+-----+-----+-----+\n",
      "|   4 | O   |     |     |     |     |     | O   | O   | O   |\n",
      "+-----+-----+-----+-----+-----+-----+-----+-----+-----+-----+\n",
      "+-----+-----+-----+-----+-----+-----+-----+-----+-----+-----+\n",
      "|     | 0   | 1   | 2   | 3   | 4   | 5   | 6   | 7   | 8   |\n",
      "+=====+=====+=====+=====+=====+=====+=====+=====+=====+=====+\n",
      "|   0 |     |     |     |     | O   |     |     |     |     |\n",
      "+-----+-----+-----+-----+-----+-----+-----+-----+-----+-----+\n",
      "|   1 |     |     |     |     |     | O   |     |     |     |\n",
      "+-----+-----+-----+-----+-----+-----+-----+-----+-----+-----+\n",
      "|   2 |     |     |     | O   |     | O   | O   |     |     |\n",
      "+-----+-----+-----+-----+-----+-----+-----+-----+-----+-----+\n",
      "|   3 |     |     | O   | O   |     |     |     |     |     |\n",
      "+-----+-----+-----+-----+-----+-----+-----+-----+-----+-----+\n",
      "|   4 | O   |     |     |     |     |     | O   | O   | O   |\n",
      "+-----+-----+-----+-----+-----+-----+-----+-----+-----+-----+\n",
      "+-----+-----+-----+-----+-----+-----+-----+-----+-----+-----+\n",
      "|     | 0   | 1   | 2   | 3   | 4   | 5   | 6   | 7   | 8   |\n",
      "+=====+=====+=====+=====+=====+=====+=====+=====+=====+=====+\n",
      "|   0 |     |     |     |     | O   |     |     |     |     |\n",
      "+-----+-----+-----+-----+-----+-----+-----+-----+-----+-----+\n",
      "|   1 |     |     |     |     |     | O   |     |     |     |\n",
      "+-----+-----+-----+-----+-----+-----+-----+-----+-----+-----+\n",
      "|   2 |     |     |     | O   |     |     | O   |     |     |\n",
      "+-----+-----+-----+-----+-----+-----+-----+-----+-----+-----+\n",
      "|   3 |     |     | O   | O   |     |     |     |     |     |\n",
      "+-----+-----+-----+-----+-----+-----+-----+-----+-----+-----+\n",
      "|   4 | O   |     |     |     |     |     | O   | O   | O   |\n",
      "+-----+-----+-----+-----+-----+-----+-----+-----+-----+-----+\n",
      "+-----+-----+-----+-----+-----+-----+-----+-----+-----+-----+\n",
      "|     | 0   | 1   | 2   | 3   | 4   | 5   | 6   | 7   | 8   |\n",
      "+=====+=====+=====+=====+=====+=====+=====+=====+=====+=====+\n",
      "|   0 |     |     |     |     | O   |     |     |     |     |\n",
      "+-----+-----+-----+-----+-----+-----+-----+-----+-----+-----+\n",
      "|   1 |     |     |     |     |     | O   |     |     |     |\n",
      "+-----+-----+-----+-----+-----+-----+-----+-----+-----+-----+\n",
      "|   2 |     |     |     | O   |     |     | O   |     |     |\n",
      "+-----+-----+-----+-----+-----+-----+-----+-----+-----+-----+\n",
      "|   3 |     |     | O   | O   |     |     |     |     |     |\n",
      "+-----+-----+-----+-----+-----+-----+-----+-----+-----+-----+\n",
      "|   4 | O   |     |     |     |     |     |     | O   | O   |\n",
      "+-----+-----+-----+-----+-----+-----+-----+-----+-----+-----+\n",
      "+-----+-----+-----+-----+-----+-----+-----+-----+-----+-----+\n",
      "|     | 0   | 1   | 2   | 3   | 4   | 5   | 6   | 7   | 8   |\n",
      "+=====+=====+=====+=====+=====+=====+=====+=====+=====+=====+\n",
      "|   0 |     |     |     |     | O   |     |     |     |     |\n",
      "+-----+-----+-----+-----+-----+-----+-----+-----+-----+-----+\n",
      "|   1 |     |     |     |     |     |     |     |     |     |\n",
      "+-----+-----+-----+-----+-----+-----+-----+-----+-----+-----+\n",
      "|   2 |     |     |     | O   |     |     | O   |     |     |\n",
      "+-----+-----+-----+-----+-----+-----+-----+-----+-----+-----+\n",
      "|   3 |     |     | O   | O   |     |     |     |     |     |\n",
      "+-----+-----+-----+-----+-----+-----+-----+-----+-----+-----+\n",
      "|   4 | O   |     |     |     |     |     |     | O   | O   |\n",
      "+-----+-----+-----+-----+-----+-----+-----+-----+-----+-----+\n",
      "+-----+-----+-----+-----+-----+-----+-----+-----+-----+-----+\n",
      "|     | 0   | 1   | 2   | 3   | 4   | 5   | 6   | 7   | 8   |\n",
      "+=====+=====+=====+=====+=====+=====+=====+=====+=====+=====+\n",
      "|   0 |     |     |     |     |     |     |     |     |     |\n",
      "+-----+-----+-----+-----+-----+-----+-----+-----+-----+-----+\n",
      "|   1 |     |     |     |     |     |     |     |     |     |\n",
      "+-----+-----+-----+-----+-----+-----+-----+-----+-----+-----+\n",
      "|   2 |     |     |     | O   |     |     | O   |     |     |\n",
      "+-----+-----+-----+-----+-----+-----+-----+-----+-----+-----+\n",
      "|   3 |     |     | O   | O   |     |     |     |     |     |\n",
      "+-----+-----+-----+-----+-----+-----+-----+-----+-----+-----+\n",
      "|   4 | O   |     |     |     |     |     |     | O   | O   |\n",
      "+-----+-----+-----+-----+-----+-----+-----+-----+-----+-----+\n",
      "+-----+-----+-----+-----+-----+-----+-----+-----+-----+-----+\n",
      "|     | 0   | 1   | 2   | 3   | 4   | 5   | 6   | 7   | 8   |\n",
      "+=====+=====+=====+=====+=====+=====+=====+=====+=====+=====+\n",
      "|   0 |     |     |     |     |     |     |     |     |     |\n",
      "+-----+-----+-----+-----+-----+-----+-----+-----+-----+-----+\n",
      "|   1 |     |     |     |     |     |     |     |     |     |\n",
      "+-----+-----+-----+-----+-----+-----+-----+-----+-----+-----+\n",
      "|   2 |     |     |     | O   |     |     | O   |     |     |\n",
      "+-----+-----+-----+-----+-----+-----+-----+-----+-----+-----+\n",
      "|   3 |     |     | O   | O   |     |     |     |     |     |\n",
      "+-----+-----+-----+-----+-----+-----+-----+-----+-----+-----+\n",
      "|   4 | O   |     |     |     |     |     |     |     |     |\n",
      "+-----+-----+-----+-----+-----+-----+-----+-----+-----+-----+\n",
      "+-----+-----+-----+-----+-----+-----+-----+-----+-----+-----+\n",
      "|     | 0   | 1   | 2   | 3   | 4   | 5   | 6   | 7   | 8   |\n",
      "+=====+=====+=====+=====+=====+=====+=====+=====+=====+=====+\n",
      "|   0 |     |     |     |     |     |     |     |     |     |\n",
      "+-----+-----+-----+-----+-----+-----+-----+-----+-----+-----+\n",
      "|   1 |     |     |     |     |     |     |     |     |     |\n",
      "+-----+-----+-----+-----+-----+-----+-----+-----+-----+-----+\n",
      "|   2 |     |     |     | O   |     |     | O   |     |     |\n",
      "+-----+-----+-----+-----+-----+-----+-----+-----+-----+-----+\n",
      "|   3 |     |     |     | O   |     |     |     |     |     |\n",
      "+-----+-----+-----+-----+-----+-----+-----+-----+-----+-----+\n",
      "|   4 | O   |     |     |     |     |     |     |     |     |\n",
      "+-----+-----+-----+-----+-----+-----+-----+-----+-----+-----+\n",
      "+-----+-----+-----+-----+-----+-----+-----+-----+-----+-----+\n",
      "|     | 0   | 1   | 2   | 3   | 4   | 5   | 6   | 7   | 8   |\n",
      "+=====+=====+=====+=====+=====+=====+=====+=====+=====+=====+\n",
      "|   0 |     |     |     |     |     |     |     |     |     |\n",
      "+-----+-----+-----+-----+-----+-----+-----+-----+-----+-----+\n",
      "|   1 |     |     |     |     |     |     |     |     |     |\n",
      "+-----+-----+-----+-----+-----+-----+-----+-----+-----+-----+\n",
      "|   2 |     |     |     | O   |     |     | O   |     |     |\n",
      "+-----+-----+-----+-----+-----+-----+-----+-----+-----+-----+\n",
      "|   3 |     |     |     |     |     |     |     |     |     |\n",
      "+-----+-----+-----+-----+-----+-----+-----+-----+-----+-----+\n",
      "|   4 | O   |     |     |     |     |     |     |     |     |\n",
      "+-----+-----+-----+-----+-----+-----+-----+-----+-----+-----+\n",
      "+-----+-----+-----+-----+-----+-----+-----+-----+-----+-----+\n",
      "|     | 0   | 1   | 2   | 3   | 4   | 5   | 6   | 7   | 8   |\n",
      "+=====+=====+=====+=====+=====+=====+=====+=====+=====+=====+\n",
      "|   0 |     |     |     |     |     |     |     |     |     |\n",
      "+-----+-----+-----+-----+-----+-----+-----+-----+-----+-----+\n",
      "|   1 |     |     |     |     |     |     |     |     |     |\n",
      "+-----+-----+-----+-----+-----+-----+-----+-----+-----+-----+\n",
      "|   2 |     |     |     | O   |     |     |     |     |     |\n",
      "+-----+-----+-----+-----+-----+-----+-----+-----+-----+-----+\n",
      "|   3 |     |     |     |     |     |     |     |     |     |\n",
      "+-----+-----+-----+-----+-----+-----+-----+-----+-----+-----+\n",
      "|   4 | O   |     |     |     |     |     |     |     |     |\n",
      "+-----+-----+-----+-----+-----+-----+-----+-----+-----+-----+\n",
      "+-----+-----+-----+-----+-----+-----+-----+-----+-----+-----+\n",
      "|     | 0   | 1   | 2   | 3   | 4   | 5   | 6   | 7   | 8   |\n",
      "+=====+=====+=====+=====+=====+=====+=====+=====+=====+=====+\n",
      "|   0 |     |     |     |     |     |     |     |     |     |\n",
      "+-----+-----+-----+-----+-----+-----+-----+-----+-----+-----+\n",
      "|   1 |     |     |     |     |     |     |     |     |     |\n",
      "+-----+-----+-----+-----+-----+-----+-----+-----+-----+-----+\n",
      "|   2 |     |     |     | O   |     |     |     |     |     |\n",
      "+-----+-----+-----+-----+-----+-----+-----+-----+-----+-----+\n",
      "|   3 |     |     |     |     |     |     |     |     |     |\n",
      "+-----+-----+-----+-----+-----+-----+-----+-----+-----+-----+\n",
      "|   4 |     |     |     |     |     |     |     |     |     |\n",
      "+-----+-----+-----+-----+-----+-----+-----+-----+-----+-----+\n",
      "+-----+-----+-----+-----+-----+-----+-----+-----+-----+-----+\n",
      "|     | 0   | 1   | 2   | 3   | 4   | 5   | 6   | 7   | 8   |\n",
      "+=====+=====+=====+=====+=====+=====+=====+=====+=====+=====+\n",
      "|   0 |     |     |     |     |     |     |     |     |     |\n",
      "+-----+-----+-----+-----+-----+-----+-----+-----+-----+-----+\n",
      "|   1 |     |     |     |     |     |     |     |     |     |\n",
      "+-----+-----+-----+-----+-----+-----+-----+-----+-----+-----+\n",
      "|   2 |     |     |     | O   |     |     |     |     |     |\n",
      "+-----+-----+-----+-----+-----+-----+-----+-----+-----+-----+\n",
      "|   3 |     |     |     |     |     |     |     |     |     |\n",
      "+-----+-----+-----+-----+-----+-----+-----+-----+-----+-----+\n",
      "|   4 |     |     |     |     |     |     |     |     |     |\n",
      "+-----+-----+-----+-----+-----+-----+-----+-----+-----+-----+\n"
     ]
    },
    {
     "data": {
      "text/plain": [
       "1"
      ]
     },
     "execution_count": 11,
     "metadata": {},
     "output_type": "execute_result"
    }
   ],
   "source": [
    "play_vs_other_agent(env, agent1=RandomAgent(1), agent2=RandomAgent(2), render=True)"
   ]
  },
  {
   "cell_type": "markdown",
   "metadata": {},
   "source": [
    "Random Agent vs UONI (Universal Optimization Neural Interface)"
   ]
  },
  {
   "cell_type": "code",
   "execution_count": 7,
   "metadata": {},
   "outputs": [],
   "source": [
    "import matplotlib.pyplot as plt\n",
    "# Assuming ws is a list of winners\n",
    "def print_graph(ws, level):\n",
    "    winners = [\"UONI\", \"OTHER\"]\n",
    "    win_counts = [ws.count(x) for x in [1,2]]\n",
    "\n",
    "    plt.bar(winners, win_counts)\n",
    "    plt.xlabel('Winner Number ' + level)\n",
    "    plt.ylabel('Win Amount')\n",
    "    plt.title('Win Amount per Winner')\n",
    "    plt.show()"
   ]
  },
  {
   "cell_type": "code",
   "execution_count": 15,
   "metadata": {},
   "outputs": [
    {
     "name": "stderr",
     "output_type": "stream",
     "text": [
      "100%|██████████| 20/20 [00:00<00:00, 52.44it/s]\n"
     ]
    },
    {
     "data": {
      "image/png": "[encoded data removed]",
      "text/plain": [
       "<Figure size 640x480 with 1 Axes>"
      ]
     },
     "metadata": {},
     "output_type": "display_data"
    },
    {
     "name": "stderr",
     "output_type": "stream",
     "text": [
      "100%|██████████| 20/20 [00:00<00:00, 25.81it/s]\n"
     ]
    },
    {
     "data": {
      "image/png": "[encoded data removed]",
      "text/plain": [
       "<Figure size 640x480 with 1 Axes>"
      ]
     },
     "metadata": {},
     "output_type": "display_data"
    },
    {
     "name": "stderr",
     "output_type": "stream",
     "text": [
      "100%|██████████| 20/20 [00:01<00:00, 18.58it/s]\n"
     ]
    },
    {
     "data": {
      "image/png": "[encoded data removed]",
      "text/plain": [
       "<Figure size 640x480 with 1 Axes>"
      ]
     },
     "metadata": {},
     "output_type": "display_data"
    }
   ],
   "source": [
    "from tqdm import tqdm\n",
    "ws = {'easy':[], 'medium':[], 'hard':[]}\n",
    "for level in ['easy', 'medium', 'hard']:\n",
    "    for i in tqdm(range(20)):\n",
    "        if i%2 == 0:\n",
    "            ws[level].append(play_vs_other_agent(env, agent1=UONI(1, level), agent2=RandomAgent(2), render=False))\n",
    "        else:\n",
    "            ws[level].append(3-play_vs_other_agent(env, agent1=RandomAgent(1), agent2=UONI(2, level), render=False))\n",
    "    print_graph(ws[level], level)"
   ]
  }
 ],
 "metadata": {
  "kernelspec": {
   "display_name": "Python 3",
   "language": "python",
   "name": "python3"
  },
  "language_info": {
   "codemirror_mode": {
    "name": "ipython",
    "version": 3
   },
   "file_extension": ".py",
   "mimetype": "text/x-python",
   "name": "python",
   "nbconvert_exporter": "python",
   "pygments_lexer": "ipython3",
   "version": "3.12.2"
  }
 },
 "nbformat": 4,
 "nbformat_minor": 2
}
