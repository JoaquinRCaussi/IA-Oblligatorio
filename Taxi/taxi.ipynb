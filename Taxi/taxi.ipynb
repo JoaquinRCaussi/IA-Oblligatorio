{
 "cells": [
  {
   "cell_type": "markdown",
   "metadata": {},
   "source": [
    "Esta notebook contiene bloques de código útiles para realizar Q-learning en el entorno \"Taxi\""
   ]
  },
  {
   "cell_type": "code",
   "execution_count": 1,
   "metadata": {},
   "outputs": [],
   "source": [
    "import numpy as np\n",
    "import random\n",
    "from taxi_env_extended import TaxiEnvExtended\n",
    "import wandb\n",
    "from tqdm import tqdm\n"
   ]
  },
  {
   "cell_type": "code",
   "execution_count": 2,
   "metadata": {},
   "outputs": [],
   "source": [
    "env = TaxiEnvExtended()"
   ]
  },
  {
   "cell_type": "markdown",
   "metadata": {},
   "source": [
    "Obtener la cantidad de estados y acciones"
   ]
  },
  {
   "cell_type": "code",
   "execution_count": 3,
   "metadata": {},
   "outputs": [],
   "source": [
    "actions = env.action_space.n\n",
    "states = env.observation_space.n"
   ]
  },
  {
   "cell_type": "markdown",
   "metadata": {},
   "source": [
    "Inicialización de la tabla Q"
   ]
  },
  {
   "cell_type": "code",
   "execution_count": 4,
   "metadata": {},
   "outputs": [
    {
     "data": {
      "text/plain": [
       "array([[0., 0., 0., 0., 0., 0.],\n",
       "       [0., 0., 0., 0., 0., 0.],\n",
       "       [0., 0., 0., 0., 0., 0.],\n",
       "       ...,\n",
       "       [0., 0., 0., 0., 0., 0.],\n",
       "       [0., 0., 0., 0., 0., 0.],\n",
       "       [0., 0., 0., 0., 0., 0.]])"
      ]
     },
     "execution_count": 4,
     "metadata": {},
     "output_type": "execute_result"
    }
   ],
   "source": [
    "Q = np.zeros((states, actions))\n",
    "Q"
   ]
  },
  {
   "cell_type": "markdown",
   "metadata": {},
   "source": [
    "Obtención de la acción a partir de la tabla Q"
   ]
  },
  {
   "cell_type": "code",
   "execution_count": 6,
   "metadata": {},
   "outputs": [],
   "source": [
    "def optimal_policy(state, Q):\n",
    "    action = np.argmax(Q[state])\n",
    "    return action"
   ]
  },
  {
   "cell_type": "markdown",
   "metadata": {},
   "source": [
    "Epsilon-Greedy Policy"
   ]
  },
  {
   "cell_type": "code",
   "execution_count": 7,
   "metadata": {},
   "outputs": [],
   "source": [
    "def epsilon_greedy_policy(state, Q, epsilon=0.1, randomSeed=0):\n",
    "    random.seed(randomSeed)\n",
    "    explore = np.random.binomial(1, epsilon)\n",
    "    if explore:\n",
    "        action = env.action_space.sample()\n",
    "        \n",
    "    # exploit\n",
    "    else:\n",
    "        action = np.argmax(Q[state])\n",
    "        \n",
    "    return action"
   ]
  },
  {
   "cell_type": "markdown",
   "metadata": {},
   "source": [
    "Ejemplo de episodio "
   ]
  },
  {
   "cell_type": "code",
   "execution_count": 8,
   "metadata": {},
   "outputs": [
    {
     "name": "stdout",
     "output_type": "stream",
     "text": [
      "186\n",
      "-> 186 4 -10 186 False\n",
      "-> 186 0 -1 286 False\n",
      "-> 286 2 -1 286 False\n",
      "-> 286 0 -1 386 False\n",
      "-> 386 0 -1 486 False\n",
      "-> 486 0 -1 486 False\n",
      "-> 486 0 -1 486 False\n",
      "-> 486 0 -1 486 False\n",
      "-> 486 0 -1 486 False\n",
      "-> 486 0 -1 486 False\n",
      "-> 486 4 -10 486 False\n",
      "-> 486 0 -1 486 False\n",
      "-> 486 1 -1 386 False\n",
      "-> 386 0 -1 486 False\n",
      "-> 486 0 -1 486 False\n",
      "-> 486 5 -10 486 False\n",
      "-> 486 0 -1 486 False\n",
      "-> 486 5 -10 486 False\n",
      "-> 486 5 -10 486 False\n",
      "-> 486 0 -1 486 False\n",
      "-> 486 0 -1 486 False\n",
      "-> 486 0 -1 486 False\n",
      "-> 486 0 -1 486 False\n",
      "-> 486 0 -1 486 False\n",
      "-> 486 0 -1 486 False\n",
      "-> 486 0 -1 486 False\n",
      "-> 486 0 -1 486 False\n",
      "-> 486 1 -1 386 False\n",
      "-> 386 0 -1 486 False\n",
      "-> 486 0 -1 486 False\n",
      "-> 486 0 -1 486 False\n",
      "-> 486 2 -1 486 False\n",
      "-> 486 4 -10 486 False\n",
      "-> 486 1 -1 386 False\n",
      "-> 386 3 -1 366 False\n",
      "-> 366 2 -1 386 False\n",
      "-> 386 0 -1 486 False\n",
      "-> 486 0 -1 486 False\n",
      "-> 486 2 -1 486 False\n",
      "-> 486 1 -1 386 False\n",
      "-> 386 5 -10 386 False\n",
      "-> 386 0 -1 486 False\n",
      "-> 486 5 -10 486 False\n",
      "-> 486 2 -1 486 False\n",
      "-> 486 0 -1 486 False\n",
      "-> 486 1 -1 386 False\n",
      "-> 386 0 -1 486 False\n",
      "-> 486 0 -1 486 False\n",
      "-> 486 0 -1 486 False\n",
      "-> 486 0 -1 486 False\n",
      "-> 486 0 -1 486 False\n",
      "-> 486 0 -1 486 False\n",
      "-> 486 0 -1 486 False\n",
      "-> 486 1 -1 386 False\n",
      "-> 386 0 -1 486 False\n",
      "-> 486 3 -1 466 False\n",
      "-> 466 5 -10 466 False\n",
      "-> 466 0 -1 466 False\n",
      "-> 466 0 -1 466 False\n",
      "-> 466 0 -1 466 False\n",
      "-> 466 0 -1 466 False\n",
      "-> 466 0 -1 466 False\n",
      "-> 466 4 -10 466 False\n",
      "-> 466 0 -1 466 False\n",
      "-> 466 2 -1 486 False\n",
      "-> 486 1 -1 386 False\n",
      "-> 386 1 -1 286 False\n",
      "-> 286 0 -1 386 False\n",
      "-> 386 0 -1 486 False\n",
      "-> 486 0 -1 486 False\n",
      "-> 486 0 -1 486 False\n",
      "-> 486 0 -1 486 False\n",
      "-> 486 0 -1 486 False\n",
      "-> 486 0 -1 486 False\n",
      "-> 486 0 -1 486 False\n",
      "-> 486 0 -1 486 False\n",
      "-> 486 3 -1 466 False\n",
      "-> 466 0 -1 466 False\n",
      "-> 466 4 -10 466 False\n",
      "-> 466 5 -10 466 False\n",
      "-> 466 0 -1 466 False\n",
      "-> 466 0 -1 466 False\n",
      "-> 466 1 -1 366 False\n",
      "-> 366 1 -1 266 False\n",
      "-> 266 4 -10 266 False\n",
      "-> 266 4 -10 266 False\n",
      "-> 266 0 -1 366 False\n",
      "-> 366 0 -1 466 False\n",
      "-> 466 2 -1 486 False\n",
      "-> 486 0 -1 486 False\n",
      "-> 486 0 -1 486 False\n",
      "-> 486 0 -1 486 False\n",
      "-> 486 0 -1 486 False\n",
      "-> 486 0 -1 486 False\n",
      "-> 486 0 -1 486 False\n",
      "-> 486 0 -1 486 False\n",
      "-> 486 0 -1 486 False\n",
      "-> 486 2 -1 486 False\n",
      "-> 486 3 -1 466 False\n",
      "-> 466 0 -1 466 False\n",
      "-> 466 0 -1 466 False\n",
      "-> 466 0 -1 466 False\n",
      "-> 466 0 -1 466 False\n",
      "-> 466 3 -1 466 False\n",
      "-> 466 4 -10 466 False\n",
      "-> 466 2 -1 486 False\n",
      "-> 486 0 -1 486 False\n",
      "-> 486 3 -1 466 False\n",
      "-> 466 5 -10 466 False\n",
      "-> 466 0 -1 466 False\n",
      "-> 466 1 -1 366 False\n",
      "-> 366 2 -1 386 False\n",
      "-> 386 1 -1 286 False\n",
      "-> 286 0 -1 386 False\n",
      "-> 386 1 -1 286 False\n",
      "-> 286 1 -1 186 False\n",
      "-> 186 0 -1 286 False\n",
      "-> 286 0 -1 386 False\n",
      "-> 386 1 -1 286 False\n",
      "-> 286 0 -1 386 False\n",
      "-> 386 5 -10 386 False\n",
      "-> 386 5 -10 386 False\n",
      "-> 386 5 -10 386 False\n",
      "-> 386 0 -1 486 False\n",
      "-> 486 4 -10 486 False\n",
      "-> 486 0 -1 486 False\n",
      "-> 486 4 -10 486 False\n",
      "-> 486 0 -1 486 False\n",
      "-> 486 1 -1 386 False\n",
      "-> 386 4 -10 386 False\n",
      "-> 386 3 -1 366 False\n",
      "-> 366 0 -1 466 False\n",
      "-> 466 0 -1 466 False\n",
      "-> 466 0 -1 466 False\n",
      "-> 466 0 -1 466 False\n",
      "-> 466 0 -1 466 False\n",
      "-> 466 4 -10 466 False\n",
      "-> 466 0 -1 466 False\n",
      "-> 466 0 -1 466 False\n",
      "-> 466 0 -1 466 False\n",
      "-> 466 0 -1 466 False\n",
      "-> 466 0 -1 466 False\n",
      "-> 466 3 -1 466 False\n",
      "-> 466 3 -1 466 False\n",
      "-> 466 4 -10 466 False\n",
      "-> 466 1 -1 366 False\n",
      "-> 366 4 -10 366 False\n",
      "-> 366 2 -1 386 False\n",
      "-> 386 0 -1 486 False\n",
      "-> 486 0 -1 486 False\n",
      "-> 486 0 -1 486 False\n",
      "-> 486 0 -1 486 False\n",
      "-> 486 0 -1 486 False\n",
      "-> 486 1 -1 386 False\n",
      "-> 386 0 -1 486 False\n",
      "-> 486 4 -10 486 False\n",
      "-> 486 4 -10 486 False\n",
      "-> 486 0 -1 486 False\n",
      "-> 486 0 -1 486 False\n",
      "-> 486 2 -1 486 False\n",
      "-> 486 0 -1 486 False\n",
      "-> 486 0 -1 486 False\n",
      "-> 486 4 -10 486 False\n",
      "-> 486 5 -10 486 False\n",
      "-> 486 2 -1 486 False\n",
      "-> 486 0 -1 486 False\n",
      "-> 486 3 -1 466 False\n",
      "-> 466 5 -10 466 False\n",
      "-> 466 4 -10 466 False\n",
      "-> 466 5 -10 466 False\n",
      "-> 466 1 -1 366 False\n",
      "-> 366 4 -10 366 False\n",
      "-> 366 0 -1 466 False\n",
      "-> 466 0 -1 466 False\n",
      "-> 466 0 -1 466 False\n",
      "-> 466 0 -1 466 False\n",
      "-> 466 0 -1 466 False\n",
      "-> 466 0 -1 466 False\n",
      "-> 466 3 -1 466 False\n",
      "-> 466 0 -1 466 False\n",
      "-> 466 0 -1 466 False\n",
      "-> 466 0 -1 466 False\n",
      "-> 466 3 -1 466 False\n",
      "-> 466 3 -1 466 False\n",
      "-> 466 0 -1 466 False\n",
      "-> 466 0 -1 466 False\n",
      "-> 466 0 -1 466 False\n",
      "-> 466 4 -10 466 False\n",
      "-> 466 0 -1 466 False\n",
      "-> 466 3 -1 466 False\n",
      "-> 466 0 -1 466 False\n",
      "-> 466 1 -1 366 False\n",
      "-> 366 0 -1 466 False\n",
      "-> 466 0 -1 466 False\n",
      "-> 466 5 -10 466 False\n",
      "-> 466 1 -1 366 False\n",
      "-> 366 0 -1 466 False\n",
      "-> 466 2 -1 486 False\n",
      "-> 486 4 -10 486 False\n",
      "-> 486 0 -1 486 True\n",
      "total_reward -524\n",
      "total_steps 200\n"
     ]
    }
   ],
   "source": [
    "obs,_ = env.reset()\n",
    "print(obs)\n",
    "done = False\n",
    "total_reward = 0\n",
    "step_count = 0\n",
    "while not done:\n",
    "    state = obs\n",
    "    action = epsilon_greedy_policy(state, Q, 0.5)\n",
    "    obs, reward, done, _, _ = env.step(action)\n",
    "    total_reward += reward\n",
    "    step_count += 1\n",
    "    print('->', state, action, reward, obs, done)\n",
    "    env.render()\n",
    "print('total_reward', total_reward)\n",
    "print('total_steps', step_count)"
   ]
  },
  {
   "cell_type": "code",
   "execution_count": null,
   "metadata": {},
   "outputs": [],
   "source": [
    "from Agent import Agent\n",
    "num_episodes = 1000\n",
    "wandb.init(project=\"taxi\",\n",
    "           config={\n",
    "                \"alpha\": 0.1,\n",
    "                \"epsilon\": 0.5,\n",
    "                \"Num_episodes_train\": num_episodes,\n",
    "                \"randomSeed\": 0,\n",
    "           })\n",
    "agent = Agent(env, gamma=0.9, Qtable=Q, alpha=0.1, epsilon=0.5,randomSeed=0, policy_func=epsilon_greedy_policy) \n",
    "\n",
    "##agent.train(num_episodes)\n",
    "\n"
   ]
  },
  {
   "cell_type": "code",
   "execution_count": 7,
   "metadata": {},
   "outputs": [
    {
     "name": "stderr",
     "output_type": "stream",
     "text": [
      "Failed to detect the name of this notebook, you can set it manually with the WANDB_NOTEBOOK_NAME environment variable to enable code saving.\n",
      "\u001b[34m\u001b[1mwandb\u001b[0m: Currently logged in as: \u001b[33mjoaquinrodriguezcaussi\u001b[0m (\u001b[33mintart\u001b[0m). Use \u001b[1m`wandb login --relogin`\u001b[0m to force relogin\n"
     ]
    },
    {
     "data": {
      "text/html": [
       "Tracking run with wandb version 0.17.1"
      ],
      "text/plain": [
       "<IPython.core.display.HTML object>"
      ]
     },
     "metadata": {},
     "output_type": "display_data"
    },
    {
     "data": {
      "text/html": [
       "Run data is saved locally in <code>/Users/joaquin/Documents/Facultad/7moSemestre/InteligenciaArtificial/Obligatorio Mayo 2024/Taxi/wandb/run-20240610_145735-auil5el8</code>"
      ],
      "text/plain": [
       "<IPython.core.display.HTML object>"
      ]
     },
     "metadata": {},
     "output_type": "display_data"
    },
    {
     "data": {
      "text/html": [
       "Syncing run <strong><a href='https://wandb.ai/intart/taxi/runs/auil5el8' target=\"_blank\">glorious-glade-422</a></strong> to <a href='https://wandb.ai/intart/taxi' target=\"_blank\">Weights & Biases</a> (<a href='https://wandb.me/run' target=\"_blank\">docs</a>)<br/>"
      ],
      "text/plain": [
       "<IPython.core.display.HTML object>"
      ]
     },
     "metadata": {},
     "output_type": "display_data"
    },
    {
     "data": {
      "text/html": [
       " View project at <a href='https://wandb.ai/intart/taxi' target=\"_blank\">https://wandb.ai/intart/taxi</a>"
      ],
      "text/plain": [
       "<IPython.core.display.HTML object>"
      ]
     },
     "metadata": {},
     "output_type": "display_data"
    },
    {
     "data": {
      "text/html": [
       " View run at <a href='https://wandb.ai/intart/taxi/runs/auil5el8' target=\"_blank\">https://wandb.ai/intart/taxi/runs/auil5el8</a>"
      ],
      "text/plain": [
       "<IPython.core.display.HTML object>"
      ]
     },
     "metadata": {},
     "output_type": "display_data"
    },
    {
     "name": "stderr",
     "output_type": "stream",
     "text": [
      "100%|██████████| 100/100 [01:17<00:00,  1.29it/s]\n",
      "100%|██████████| 100/100 [01:17<00:00,  1.28it/s]\n",
      "100%|██████████| 100/100 [01:16<00:00,  1.30it/s]\n",
      "100%|██████████| 100/100 [01:18<00:00,  1.28it/s]\n",
      "100%|██████████| 100/100 [01:17<00:00,  1.30it/s]\n",
      "100%|██████████| 100/100 [01:17<00:00,  1.29it/s]\n",
      "100%|██████████| 100/100 [01:17<00:00,  1.28it/s]\n",
      "100%|██████████| 100/100 [01:17<00:00,  1.29it/s]\n",
      "100%|██████████| 100/100 [01:17<00:00,  1.29it/s]\n",
      "100%|██████████| 100/100 [01:17<00:00,  1.29it/s]\n"
     ]
    }
   ],
   "source": [
    "from Agent import Agent\n",
    "agent = Agent(env, gamma=0.7, Qtable=Q, alpha=0.99, epsilon=0.1,randomSeed=45)\n",
    "\n",
    "wandb.init(project=\"taxi\",\n",
    "           config={\n",
    "               \"gamma\": 0.7, \n",
    "                \"alpha\": 0.99,\n",
    "                \"epsilon\": 0.1,\n",
    "                \"Num_episodes_train\":1000,\n",
    "                \"randomSeed\": 45,\n",
    "           })\n",
    "for t in range(10):\n",
    "    ##epsilonDecay epsilon = epsilon * (10 - t) / 10\n",
    "    trainValue = agent.train(100)\n",
    "    playValue = agent.play(10)\n",
    "    wandb.log({\"trainValue\": trainValue, \"playValue\": playValue, \"t\" : t})"
   ]
  },
  {
   "cell_type": "code",
   "execution_count": 9,
   "metadata": {},
   "outputs": [
    {
     "name": "stderr",
     "output_type": "stream",
     "text": [
      "Failed to detect the name of this notebook, you can set it manually with the WANDB_NOTEBOOK_NAME environment variable to enable code saving.\n",
      "400 response executing GraphQL.\n",
      "{\"errors\":[{\"message\":\"Sweep intart/taxi/gah9p0fe is not running\",\"path\":[\"createAgent\"]}],\"data\":{\"createAgent\":null}}\n",
      "\u001b[34m\u001b[1mwandb\u001b[0m: \u001b[32m\u001b[41mERROR\u001b[0m Error while calling W&B API: Sweep intart/taxi/gah9p0fe is not running (<Response [400]>)\n"
     ]
    },
    {
     "ename": "UsageError",
     "evalue": "Sweep intart/taxi/gah9p0fe is not running",
     "output_type": "error",
     "traceback": [
      "\u001b[0;31m---------------------------------------------------------------------------\u001b[0m",
      "\u001b[0;31mHTTPError\u001b[0m                                 Traceback (most recent call last)",
      "File \u001b[0;32m/opt/anaconda3/envs/gym/lib/python3.12/site-packages/wandb/sdk/lib/retry.py:131\u001b[0m, in \u001b[0;36mRetry.__call__\u001b[0;34m(self, *args, **kwargs)\u001b[0m\n\u001b[1;32m    130\u001b[0m \u001b[38;5;28;01mtry\u001b[39;00m:\n\u001b[0;32m--> 131\u001b[0m     result \u001b[38;5;241m=\u001b[39m \u001b[38;5;28;43mself\u001b[39;49m\u001b[38;5;241;43m.\u001b[39;49m\u001b[43m_call_fn\u001b[49m\u001b[43m(\u001b[49m\u001b[38;5;241;43m*\u001b[39;49m\u001b[43margs\u001b[49m\u001b[43m,\u001b[49m\u001b[43m \u001b[49m\u001b[38;5;241;43m*\u001b[39;49m\u001b[38;5;241;43m*\u001b[39;49m\u001b[43mkwargs\u001b[49m\u001b[43m)\u001b[49m\n\u001b[1;32m    132\u001b[0m     \u001b[38;5;66;03m# Only print resolved attempts once every minute\u001b[39;00m\n",
      "File \u001b[0;32m/opt/anaconda3/envs/gym/lib/python3.12/site-packages/wandb/sdk/internal/internal_api.py:340\u001b[0m, in \u001b[0;36mApi.execute\u001b[0;34m(self, *args, **kwargs)\u001b[0m\n\u001b[1;32m    339\u001b[0m \u001b[38;5;28;01mtry\u001b[39;00m:\n\u001b[0;32m--> 340\u001b[0m     \u001b[38;5;28;01mreturn\u001b[39;00m \u001b[38;5;28;43mself\u001b[39;49m\u001b[38;5;241;43m.\u001b[39;49m\u001b[43mclient\u001b[49m\u001b[38;5;241;43m.\u001b[39;49m\u001b[43mexecute\u001b[49m\u001b[43m(\u001b[49m\u001b[38;5;241;43m*\u001b[39;49m\u001b[43margs\u001b[49m\u001b[43m,\u001b[49m\u001b[43m \u001b[49m\u001b[38;5;241;43m*\u001b[39;49m\u001b[38;5;241;43m*\u001b[39;49m\u001b[43mkwargs\u001b[49m\u001b[43m)\u001b[49m  \u001b[38;5;66;03m# type: ignore\u001b[39;00m\n\u001b[1;32m    341\u001b[0m \u001b[38;5;28;01mexcept\u001b[39;00m requests\u001b[38;5;241m.\u001b[39mexceptions\u001b[38;5;241m.\u001b[39mHTTPError \u001b[38;5;28;01mas\u001b[39;00m err:\n",
      "File \u001b[0;32m/opt/anaconda3/envs/gym/lib/python3.12/site-packages/wandb/vendor/gql-0.2.0/wandb_gql/client.py:52\u001b[0m, in \u001b[0;36mClient.execute\u001b[0;34m(self, document, *args, **kwargs)\u001b[0m\n\u001b[1;32m     50\u001b[0m     \u001b[38;5;28mself\u001b[39m\u001b[38;5;241m.\u001b[39mvalidate(document)\n\u001b[0;32m---> 52\u001b[0m result \u001b[38;5;241m=\u001b[39m \u001b[38;5;28;43mself\u001b[39;49m\u001b[38;5;241;43m.\u001b[39;49m\u001b[43m_get_result\u001b[49m\u001b[43m(\u001b[49m\u001b[43mdocument\u001b[49m\u001b[43m,\u001b[49m\u001b[43m \u001b[49m\u001b[38;5;241;43m*\u001b[39;49m\u001b[43margs\u001b[49m\u001b[43m,\u001b[49m\u001b[43m \u001b[49m\u001b[38;5;241;43m*\u001b[39;49m\u001b[38;5;241;43m*\u001b[39;49m\u001b[43mkwargs\u001b[49m\u001b[43m)\u001b[49m\n\u001b[1;32m     53\u001b[0m \u001b[38;5;28;01mif\u001b[39;00m result\u001b[38;5;241m.\u001b[39merrors:\n",
      "File \u001b[0;32m/opt/anaconda3/envs/gym/lib/python3.12/site-packages/wandb/vendor/gql-0.2.0/wandb_gql/client.py:60\u001b[0m, in \u001b[0;36mClient._get_result\u001b[0;34m(self, document, *args, **kwargs)\u001b[0m\n\u001b[1;32m     59\u001b[0m \u001b[38;5;28;01mif\u001b[39;00m \u001b[38;5;129;01mnot\u001b[39;00m \u001b[38;5;28mself\u001b[39m\u001b[38;5;241m.\u001b[39mretries:\n\u001b[0;32m---> 60\u001b[0m     \u001b[38;5;28;01mreturn\u001b[39;00m \u001b[38;5;28;43mself\u001b[39;49m\u001b[38;5;241;43m.\u001b[39;49m\u001b[43mtransport\u001b[49m\u001b[38;5;241;43m.\u001b[39;49m\u001b[43mexecute\u001b[49m\u001b[43m(\u001b[49m\u001b[43mdocument\u001b[49m\u001b[43m,\u001b[49m\u001b[43m \u001b[49m\u001b[38;5;241;43m*\u001b[39;49m\u001b[43margs\u001b[49m\u001b[43m,\u001b[49m\u001b[43m \u001b[49m\u001b[38;5;241;43m*\u001b[39;49m\u001b[38;5;241;43m*\u001b[39;49m\u001b[43mkwargs\u001b[49m\u001b[43m)\u001b[49m\n\u001b[1;32m     62\u001b[0m last_exception \u001b[38;5;241m=\u001b[39m \u001b[38;5;28;01mNone\u001b[39;00m\n",
      "File \u001b[0;32m/opt/anaconda3/envs/gym/lib/python3.12/site-packages/wandb/sdk/lib/gql_request.py:59\u001b[0m, in \u001b[0;36mGraphQLSession.execute\u001b[0;34m(self, document, variable_values, timeout)\u001b[0m\n\u001b[1;32m     58\u001b[0m request \u001b[38;5;241m=\u001b[39m \u001b[38;5;28mself\u001b[39m\u001b[38;5;241m.\u001b[39msession\u001b[38;5;241m.\u001b[39mpost(\u001b[38;5;28mself\u001b[39m\u001b[38;5;241m.\u001b[39murl, \u001b[38;5;241m*\u001b[39m\u001b[38;5;241m*\u001b[39mpost_args)\n\u001b[0;32m---> 59\u001b[0m \u001b[43mrequest\u001b[49m\u001b[38;5;241;43m.\u001b[39;49m\u001b[43mraise_for_status\u001b[49m\u001b[43m(\u001b[49m\u001b[43m)\u001b[49m\n\u001b[1;32m     61\u001b[0m result \u001b[38;5;241m=\u001b[39m request\u001b[38;5;241m.\u001b[39mjson()\n",
      "File \u001b[0;32m/opt/anaconda3/envs/gym/lib/python3.12/site-packages/requests/models.py:1021\u001b[0m, in \u001b[0;36mResponse.raise_for_status\u001b[0;34m(self)\u001b[0m\n\u001b[1;32m   1020\u001b[0m \u001b[38;5;28;01mif\u001b[39;00m http_error_msg:\n\u001b[0;32m-> 1021\u001b[0m     \u001b[38;5;28;01mraise\u001b[39;00m HTTPError(http_error_msg, response\u001b[38;5;241m=\u001b[39m\u001b[38;5;28mself\u001b[39m)\n",
      "\u001b[0;31mHTTPError\u001b[0m: 400 Client Error: Bad Request for url: https://api.wandb.ai/graphql",
      "\nDuring handling of the above exception, another exception occurred:\n",
      "\u001b[0;31mUsageError\u001b[0m                                Traceback (most recent call last)",
      "Cell \u001b[0;32mIn[9], line 57\u001b[0m\n\u001b[1;32m     54\u001b[0m \u001b[38;5;66;03m#sweep_id = wandb.sweep(sweep_config, entity=entity, project=project)\u001b[39;00m\n\u001b[1;32m     55\u001b[0m sweep_id \u001b[38;5;241m=\u001b[39m \u001b[38;5;124m\"\u001b[39m\u001b[38;5;124mgah9p0fe\u001b[39m\u001b[38;5;124m\"\u001b[39m\n\u001b[0;32m---> 57\u001b[0m \u001b[43mwandb\u001b[49m\u001b[38;5;241;43m.\u001b[39;49m\u001b[43magent\u001b[49m\u001b[43m(\u001b[49m\u001b[43msweep_id\u001b[49m\u001b[43m,\u001b[49m\u001b[43m \u001b[49m\u001b[43mfunction\u001b[49m\u001b[38;5;241;43m=\u001b[39;49m\u001b[43mtrain\u001b[49m\u001b[43m,\u001b[49m\u001b[43m \u001b[49m\u001b[43mcount\u001b[49m\u001b[38;5;241;43m=\u001b[39;49m\u001b[38;5;241;43m100\u001b[39;49m\u001b[43m,\u001b[49m\u001b[43m \u001b[49m\u001b[43mentity\u001b[49m\u001b[38;5;241;43m=\u001b[39;49m\u001b[43mentity\u001b[49m\u001b[43m,\u001b[49m\u001b[43m \u001b[49m\u001b[43mproject\u001b[49m\u001b[38;5;241;43m=\u001b[39;49m\u001b[43mproject\u001b[49m\u001b[43m)\u001b[49m\n",
      "File \u001b[0;32m/opt/anaconda3/envs/gym/lib/python3.12/site-packages/wandb/wandb_agent.py:568\u001b[0m, in \u001b[0;36magent\u001b[0;34m(sweep_id, function, entity, project, count)\u001b[0m\n\u001b[1;32m    566\u001b[0m wandb_sdk\u001b[38;5;241m.\u001b[39mwandb_login\u001b[38;5;241m.\u001b[39m_login(_silent\u001b[38;5;241m=\u001b[39m\u001b[38;5;28;01mTrue\u001b[39;00m)\n\u001b[1;32m    567\u001b[0m \u001b[38;5;28;01mif\u001b[39;00m function:\n\u001b[0;32m--> 568\u001b[0m     \u001b[38;5;28;01mreturn\u001b[39;00m \u001b[43mpyagent\u001b[49m\u001b[43m(\u001b[49m\u001b[43msweep_id\u001b[49m\u001b[43m,\u001b[49m\u001b[43m \u001b[49m\u001b[43mfunction\u001b[49m\u001b[43m,\u001b[49m\u001b[43m \u001b[49m\u001b[43mentity\u001b[49m\u001b[43m,\u001b[49m\u001b[43m \u001b[49m\u001b[43mproject\u001b[49m\u001b[43m,\u001b[49m\u001b[43m \u001b[49m\u001b[43mcount\u001b[49m\u001b[43m)\u001b[49m\n\u001b[1;32m    569\u001b[0m in_jupyter \u001b[38;5;241m=\u001b[39m wandb\u001b[38;5;241m.\u001b[39mwandb_sdk\u001b[38;5;241m.\u001b[39mlib\u001b[38;5;241m.\u001b[39mipython\u001b[38;5;241m.\u001b[39m_get_python_type() \u001b[38;5;241m!=\u001b[39m \u001b[38;5;124m\"\u001b[39m\u001b[38;5;124mpython\u001b[39m\u001b[38;5;124m\"\u001b[39m\n\u001b[1;32m    570\u001b[0m \u001b[38;5;28;01mreturn\u001b[39;00m run_agent(\n\u001b[1;32m    571\u001b[0m     sweep_id,\n\u001b[1;32m    572\u001b[0m     function\u001b[38;5;241m=\u001b[39mfunction,\n\u001b[0;32m   (...)\u001b[0m\n\u001b[1;32m    576\u001b[0m     count\u001b[38;5;241m=\u001b[39mcount,\n\u001b[1;32m    577\u001b[0m )\n",
      "File \u001b[0;32m/opt/anaconda3/envs/gym/lib/python3.12/site-packages/wandb/agents/pyagent.py:357\u001b[0m, in \u001b[0;36mpyagent\u001b[0;34m(sweep_id, function, entity, project, count)\u001b[0m\n\u001b[1;32m    349\u001b[0m     \u001b[38;5;28;01mraise\u001b[39;00m \u001b[38;5;167;01mException\u001b[39;00m(\u001b[38;5;124m\"\u001b[39m\u001b[38;5;124mfunction parameter must be callable!\u001b[39m\u001b[38;5;124m\"\u001b[39m)\n\u001b[1;32m    350\u001b[0m agent \u001b[38;5;241m=\u001b[39m Agent(\n\u001b[1;32m    351\u001b[0m     sweep_id,\n\u001b[1;32m    352\u001b[0m     function\u001b[38;5;241m=\u001b[39mfunction,\n\u001b[0;32m   (...)\u001b[0m\n\u001b[1;32m    355\u001b[0m     count\u001b[38;5;241m=\u001b[39mcount,\n\u001b[1;32m    356\u001b[0m )\n\u001b[0;32m--> 357\u001b[0m \u001b[43magent\u001b[49m\u001b[38;5;241;43m.\u001b[39;49m\u001b[43mrun\u001b[49m\u001b[43m(\u001b[49m\u001b[43m)\u001b[49m\n",
      "File \u001b[0;32m/opt/anaconda3/envs/gym/lib/python3.12/site-packages/wandb/agents/pyagent.py:328\u001b[0m, in \u001b[0;36mAgent.run\u001b[0;34m(self)\u001b[0m\n\u001b[1;32m    322\u001b[0m \u001b[38;5;28;01mdef\u001b[39;00m \u001b[38;5;21mrun\u001b[39m(\u001b[38;5;28mself\u001b[39m):\n\u001b[1;32m    323\u001b[0m     logger\u001b[38;5;241m.\u001b[39minfo(\n\u001b[1;32m    324\u001b[0m         \u001b[38;5;124m\"\u001b[39m\u001b[38;5;124mStarting sweep agent: entity=\u001b[39m\u001b[38;5;132;01m{}\u001b[39;00m\u001b[38;5;124m, project=\u001b[39m\u001b[38;5;132;01m{}\u001b[39;00m\u001b[38;5;124m, count=\u001b[39m\u001b[38;5;132;01m{}\u001b[39;00m\u001b[38;5;124m\"\u001b[39m\u001b[38;5;241m.\u001b[39mformat(\n\u001b[1;32m    325\u001b[0m             \u001b[38;5;28mself\u001b[39m\u001b[38;5;241m.\u001b[39m_entity, \u001b[38;5;28mself\u001b[39m\u001b[38;5;241m.\u001b[39m_project, \u001b[38;5;28mself\u001b[39m\u001b[38;5;241m.\u001b[39m_count\n\u001b[1;32m    326\u001b[0m         )\n\u001b[1;32m    327\u001b[0m     )\n\u001b[0;32m--> 328\u001b[0m     \u001b[38;5;28;43mself\u001b[39;49m\u001b[38;5;241;43m.\u001b[39;49m\u001b[43m_setup\u001b[49m\u001b[43m(\u001b[49m\u001b[43m)\u001b[49m\n\u001b[1;32m    329\u001b[0m     \u001b[38;5;66;03m# self._main_thread = threading.Thread(target=self._run_jobs_from_queue)\u001b[39;00m\n\u001b[1;32m    330\u001b[0m     \u001b[38;5;28mself\u001b[39m\u001b[38;5;241m.\u001b[39m_heartbeat_thread \u001b[38;5;241m=\u001b[39m threading\u001b[38;5;241m.\u001b[39mThread(target\u001b[38;5;241m=\u001b[39m\u001b[38;5;28mself\u001b[39m\u001b[38;5;241m.\u001b[39m_heartbeat)\n",
      "File \u001b[0;32m/opt/anaconda3/envs/gym/lib/python3.12/site-packages/wandb/agents/pyagent.py:136\u001b[0m, in \u001b[0;36mAgent._setup\u001b[0;34m(self)\u001b[0m\n\u001b[1;32m    134\u001b[0m \u001b[38;5;28;01mif\u001b[39;00m sweep_id:\n\u001b[1;32m    135\u001b[0m     \u001b[38;5;28mself\u001b[39m\u001b[38;5;241m.\u001b[39m_sweep_id \u001b[38;5;241m=\u001b[39m sweep_id\n\u001b[0;32m--> 136\u001b[0m \u001b[38;5;28;43mself\u001b[39;49m\u001b[38;5;241;43m.\u001b[39;49m\u001b[43m_register\u001b[49m\u001b[43m(\u001b[49m\u001b[43m)\u001b[49m\n",
      "File \u001b[0;32m/opt/anaconda3/envs/gym/lib/python3.12/site-packages/wandb/agents/pyagent.py:113\u001b[0m, in \u001b[0;36mAgent._register\u001b[0;34m(self)\u001b[0m\n\u001b[1;32m    111\u001b[0m \u001b[38;5;28;01mdef\u001b[39;00m \u001b[38;5;21m_register\u001b[39m(\u001b[38;5;28mself\u001b[39m):\n\u001b[1;32m    112\u001b[0m     logger\u001b[38;5;241m.\u001b[39mdebug(\u001b[38;5;124m\"\u001b[39m\u001b[38;5;124mAgent._register()\u001b[39m\u001b[38;5;124m\"\u001b[39m)\n\u001b[0;32m--> 113\u001b[0m     agent \u001b[38;5;241m=\u001b[39m \u001b[38;5;28;43mself\u001b[39;49m\u001b[38;5;241;43m.\u001b[39;49m\u001b[43m_api\u001b[49m\u001b[38;5;241;43m.\u001b[39;49m\u001b[43mregister_agent\u001b[49m\u001b[43m(\u001b[49m\u001b[43msocket\u001b[49m\u001b[38;5;241;43m.\u001b[39;49m\u001b[43mgethostname\u001b[49m\u001b[43m(\u001b[49m\u001b[43m)\u001b[49m\u001b[43m,\u001b[49m\u001b[43m \u001b[49m\u001b[43msweep_id\u001b[49m\u001b[38;5;241;43m=\u001b[39;49m\u001b[38;5;28;43mself\u001b[39;49m\u001b[38;5;241;43m.\u001b[39;49m\u001b[43m_sweep_id\u001b[49m\u001b[43m)\u001b[49m\n\u001b[1;32m    114\u001b[0m     \u001b[38;5;28mself\u001b[39m\u001b[38;5;241m.\u001b[39m_agent_id \u001b[38;5;241m=\u001b[39m agent[\u001b[38;5;124m\"\u001b[39m\u001b[38;5;124mid\u001b[39m\u001b[38;5;124m\"\u001b[39m]\n\u001b[1;32m    115\u001b[0m     logger\u001b[38;5;241m.\u001b[39mdebug(\u001b[38;5;124mf\u001b[39m\u001b[38;5;124m\"\u001b[39m\u001b[38;5;124magent_id = \u001b[39m\u001b[38;5;132;01m{\u001b[39;00m\u001b[38;5;28mself\u001b[39m\u001b[38;5;241m.\u001b[39m_agent_id\u001b[38;5;132;01m}\u001b[39;00m\u001b[38;5;124m\"\u001b[39m)\n",
      "File \u001b[0;32m/opt/anaconda3/envs/gym/lib/python3.12/site-packages/wandb/apis/internal.py:150\u001b[0m, in \u001b[0;36mApi.register_agent\u001b[0;34m(self, *args, **kwargs)\u001b[0m\n\u001b[1;32m    149\u001b[0m \u001b[38;5;28;01mdef\u001b[39;00m \u001b[38;5;21mregister_agent\u001b[39m(\u001b[38;5;28mself\u001b[39m, \u001b[38;5;241m*\u001b[39margs, \u001b[38;5;241m*\u001b[39m\u001b[38;5;241m*\u001b[39mkwargs):\n\u001b[0;32m--> 150\u001b[0m     \u001b[38;5;28;01mreturn\u001b[39;00m \u001b[38;5;28;43mself\u001b[39;49m\u001b[38;5;241;43m.\u001b[39;49m\u001b[43mapi\u001b[49m\u001b[38;5;241;43m.\u001b[39;49m\u001b[43mregister_agent\u001b[49m\u001b[43m(\u001b[49m\u001b[38;5;241;43m*\u001b[39;49m\u001b[43margs\u001b[49m\u001b[43m,\u001b[49m\u001b[43m \u001b[49m\u001b[38;5;241;43m*\u001b[39;49m\u001b[38;5;241;43m*\u001b[39;49m\u001b[43mkwargs\u001b[49m\u001b[43m)\u001b[49m\n",
      "File \u001b[0;32m/opt/anaconda3/envs/gym/lib/python3.12/site-packages/wandb/apis/normalize.py:73\u001b[0m, in \u001b[0;36mnormalize_exceptions.<locals>.wrapper\u001b[0;34m(*args, **kwargs)\u001b[0m\n\u001b[1;32m     69\u001b[0m         \u001b[38;5;28;01mraise\u001b[39;00m CommError(message, err\u001b[38;5;241m.\u001b[39mlast_exception)\u001b[38;5;241m.\u001b[39mwith_traceback(\n\u001b[1;32m     70\u001b[0m             sys\u001b[38;5;241m.\u001b[39mexc_info()[\u001b[38;5;241m2\u001b[39m]\n\u001b[1;32m     71\u001b[0m         )\n\u001b[1;32m     72\u001b[0m \u001b[38;5;28;01mexcept\u001b[39;00m Error \u001b[38;5;28;01mas\u001b[39;00m err:\n\u001b[0;32m---> 73\u001b[0m     \u001b[38;5;28;01mraise\u001b[39;00m err\n\u001b[1;32m     74\u001b[0m \u001b[38;5;28;01mexcept\u001b[39;00m \u001b[38;5;167;01mException\u001b[39;00m \u001b[38;5;28;01mas\u001b[39;00m err:\n\u001b[1;32m     75\u001b[0m     \u001b[38;5;66;03m# gql raises server errors with dict's as strings...\u001b[39;00m\n\u001b[1;32m     76\u001b[0m     \u001b[38;5;28;01mif\u001b[39;00m \u001b[38;5;28mlen\u001b[39m(err\u001b[38;5;241m.\u001b[39margs) \u001b[38;5;241m>\u001b[39m \u001b[38;5;241m0\u001b[39m:\n",
      "File \u001b[0;32m/opt/anaconda3/envs/gym/lib/python3.12/site-packages/wandb/apis/normalize.py:41\u001b[0m, in \u001b[0;36mnormalize_exceptions.<locals>.wrapper\u001b[0;34m(*args, **kwargs)\u001b[0m\n\u001b[1;32m     39\u001b[0m message \u001b[38;5;241m=\u001b[39m \u001b[38;5;124m\"\u001b[39m\u001b[38;5;124mWhoa, you found a bug.\u001b[39m\u001b[38;5;124m\"\u001b[39m\n\u001b[1;32m     40\u001b[0m \u001b[38;5;28;01mtry\u001b[39;00m:\n\u001b[0;32m---> 41\u001b[0m     \u001b[38;5;28;01mreturn\u001b[39;00m \u001b[43mfunc\u001b[49m\u001b[43m(\u001b[49m\u001b[38;5;241;43m*\u001b[39;49m\u001b[43margs\u001b[49m\u001b[43m,\u001b[49m\u001b[43m \u001b[49m\u001b[38;5;241;43m*\u001b[39;49m\u001b[38;5;241;43m*\u001b[39;49m\u001b[43mkwargs\u001b[49m\u001b[43m)\u001b[49m\n\u001b[1;32m     42\u001b[0m \u001b[38;5;28;01mexcept\u001b[39;00m requests\u001b[38;5;241m.\u001b[39mHTTPError \u001b[38;5;28;01mas\u001b[39;00m error:\n\u001b[1;32m     43\u001b[0m     errors \u001b[38;5;241m=\u001b[39m parse_backend_error_messages(error\u001b[38;5;241m.\u001b[39mresponse)\n",
      "File \u001b[0;32m/opt/anaconda3/envs/gym/lib/python3.12/site-packages/wandb/sdk/internal/internal_api.py:2917\u001b[0m, in \u001b[0;36mApi.register_agent\u001b[0;34m(self, host, sweep_id, project_name, entity)\u001b[0m\n\u001b[1;32m   2914\u001b[0m \u001b[38;5;28;01mif\u001b[39;00m project_name \u001b[38;5;129;01mis\u001b[39;00m \u001b[38;5;28;01mNone\u001b[39;00m:\n\u001b[1;32m   2915\u001b[0m     project_name \u001b[38;5;241m=\u001b[39m \u001b[38;5;28mself\u001b[39m\u001b[38;5;241m.\u001b[39msettings(\u001b[38;5;124m\"\u001b[39m\u001b[38;5;124mproject\u001b[39m\u001b[38;5;124m\"\u001b[39m)\n\u001b[0;32m-> 2917\u001b[0m response \u001b[38;5;241m=\u001b[39m \u001b[38;5;28;43mself\u001b[39;49m\u001b[38;5;241;43m.\u001b[39;49m\u001b[43mgql\u001b[49m\u001b[43m(\u001b[49m\n\u001b[1;32m   2918\u001b[0m \u001b[43m    \u001b[49m\u001b[43mmutation\u001b[49m\u001b[43m,\u001b[49m\n\u001b[1;32m   2919\u001b[0m \u001b[43m    \u001b[49m\u001b[43mvariable_values\u001b[49m\u001b[38;5;241;43m=\u001b[39;49m\u001b[43m{\u001b[49m\n\u001b[1;32m   2920\u001b[0m \u001b[43m        \u001b[49m\u001b[38;5;124;43m\"\u001b[39;49m\u001b[38;5;124;43mhost\u001b[39;49m\u001b[38;5;124;43m\"\u001b[39;49m\u001b[43m:\u001b[49m\u001b[43m \u001b[49m\u001b[43mhost\u001b[49m\u001b[43m,\u001b[49m\n\u001b[1;32m   2921\u001b[0m \u001b[43m        \u001b[49m\u001b[38;5;124;43m\"\u001b[39;49m\u001b[38;5;124;43mentityName\u001b[39;49m\u001b[38;5;124;43m\"\u001b[39;49m\u001b[43m:\u001b[49m\u001b[43m \u001b[49m\u001b[43mentity\u001b[49m\u001b[43m,\u001b[49m\n\u001b[1;32m   2922\u001b[0m \u001b[43m        \u001b[49m\u001b[38;5;124;43m\"\u001b[39;49m\u001b[38;5;124;43mprojectName\u001b[39;49m\u001b[38;5;124;43m\"\u001b[39;49m\u001b[43m:\u001b[49m\u001b[43m \u001b[49m\u001b[43mproject_name\u001b[49m\u001b[43m,\u001b[49m\n\u001b[1;32m   2923\u001b[0m \u001b[43m        \u001b[49m\u001b[38;5;124;43m\"\u001b[39;49m\u001b[38;5;124;43msweep\u001b[39;49m\u001b[38;5;124;43m\"\u001b[39;49m\u001b[43m:\u001b[49m\u001b[43m \u001b[49m\u001b[43msweep_id\u001b[49m\u001b[43m,\u001b[49m\n\u001b[1;32m   2924\u001b[0m \u001b[43m    \u001b[49m\u001b[43m}\u001b[49m\u001b[43m,\u001b[49m\n\u001b[1;32m   2925\u001b[0m \u001b[43m    \u001b[49m\u001b[43mcheck_retry_fn\u001b[49m\u001b[38;5;241;43m=\u001b[39;49m\u001b[43mutil\u001b[49m\u001b[38;5;241;43m.\u001b[39;49m\u001b[43mno_retry_4xx\u001b[49m\u001b[43m,\u001b[49m\n\u001b[1;32m   2926\u001b[0m \u001b[43m\u001b[49m\u001b[43m)\u001b[49m\n\u001b[1;32m   2927\u001b[0m result: \u001b[38;5;28mdict\u001b[39m \u001b[38;5;241m=\u001b[39m response[\u001b[38;5;124m\"\u001b[39m\u001b[38;5;124mcreateAgent\u001b[39m\u001b[38;5;124m\"\u001b[39m][\u001b[38;5;124m\"\u001b[39m\u001b[38;5;124magent\u001b[39m\u001b[38;5;124m\"\u001b[39m]\n\u001b[1;32m   2928\u001b[0m \u001b[38;5;28;01mreturn\u001b[39;00m result\n",
      "File \u001b[0;32m/opt/anaconda3/envs/gym/lib/python3.12/site-packages/wandb/sdk/internal/internal_api.py:312\u001b[0m, in \u001b[0;36mApi.gql\u001b[0;34m(self, *args, **kwargs)\u001b[0m\n\u001b[1;32m    311\u001b[0m \u001b[38;5;28;01mdef\u001b[39;00m \u001b[38;5;21mgql\u001b[39m(\u001b[38;5;28mself\u001b[39m, \u001b[38;5;241m*\u001b[39margs: Any, \u001b[38;5;241m*\u001b[39m\u001b[38;5;241m*\u001b[39mkwargs: Any) \u001b[38;5;241m-\u001b[39m\u001b[38;5;241m>\u001b[39m Any:\n\u001b[0;32m--> 312\u001b[0m     ret \u001b[38;5;241m=\u001b[39m \u001b[38;5;28;43mself\u001b[39;49m\u001b[38;5;241;43m.\u001b[39;49m\u001b[43m_retry_gql\u001b[49m\u001b[43m(\u001b[49m\n\u001b[1;32m    313\u001b[0m \u001b[43m        \u001b[49m\u001b[38;5;241;43m*\u001b[39;49m\u001b[43margs\u001b[49m\u001b[43m,\u001b[49m\n\u001b[1;32m    314\u001b[0m \u001b[43m        \u001b[49m\u001b[43mretry_cancel_event\u001b[49m\u001b[38;5;241;43m=\u001b[39;49m\u001b[38;5;28;43mself\u001b[39;49m\u001b[38;5;241;43m.\u001b[39;49m\u001b[43mcontext\u001b[49m\u001b[38;5;241;43m.\u001b[39;49m\u001b[43mcancel_event\u001b[49m\u001b[43m,\u001b[49m\n\u001b[1;32m    315\u001b[0m \u001b[43m        \u001b[49m\u001b[38;5;241;43m*\u001b[39;49m\u001b[38;5;241;43m*\u001b[39;49m\u001b[43mkwargs\u001b[49m\u001b[43m,\u001b[49m\n\u001b[1;32m    316\u001b[0m \u001b[43m    \u001b[49m\u001b[43m)\u001b[49m\n\u001b[1;32m    317\u001b[0m     \u001b[38;5;28;01mreturn\u001b[39;00m ret\n",
      "File \u001b[0;32m/opt/anaconda3/envs/gym/lib/python3.12/site-packages/wandb/sdk/lib/retry.py:147\u001b[0m, in \u001b[0;36mRetry.__call__\u001b[0;34m(self, *args, **kwargs)\u001b[0m\n\u001b[1;32m    144\u001b[0m     \u001b[38;5;28;01mreturn\u001b[39;00m result\n\u001b[1;32m    145\u001b[0m \u001b[38;5;28;01mexcept\u001b[39;00m \u001b[38;5;28mself\u001b[39m\u001b[38;5;241m.\u001b[39m_retryable_exceptions \u001b[38;5;28;01mas\u001b[39;00m e:\n\u001b[1;32m    146\u001b[0m     \u001b[38;5;66;03m# if the secondary check fails, re-raise\u001b[39;00m\n\u001b[0;32m--> 147\u001b[0m     retry_timedelta_triggered \u001b[38;5;241m=\u001b[39m \u001b[43mcheck_retry_fn\u001b[49m\u001b[43m(\u001b[49m\u001b[43me\u001b[49m\u001b[43m)\u001b[49m\n\u001b[1;32m    148\u001b[0m     \u001b[38;5;28;01mif\u001b[39;00m \u001b[38;5;129;01mnot\u001b[39;00m retry_timedelta_triggered:\n\u001b[1;32m    149\u001b[0m         \u001b[38;5;28;01mraise\u001b[39;00m\n",
      "File \u001b[0;32m/opt/anaconda3/envs/gym/lib/python3.12/site-packages/wandb/util.py:878\u001b[0m, in \u001b[0;36mno_retry_4xx\u001b[0;34m(e)\u001b[0m\n\u001b[1;32m    876\u001b[0m     \u001b[38;5;28;01mreturn\u001b[39;00m \u001b[38;5;28;01mTrue\u001b[39;00m\n\u001b[1;32m    877\u001b[0m body \u001b[38;5;241m=\u001b[39m json\u001b[38;5;241m.\u001b[39mloads(e\u001b[38;5;241m.\u001b[39mresponse\u001b[38;5;241m.\u001b[39mcontent)\n\u001b[0;32m--> 878\u001b[0m \u001b[38;5;28;01mraise\u001b[39;00m UsageError(body[\u001b[38;5;124m\"\u001b[39m\u001b[38;5;124merrors\u001b[39m\u001b[38;5;124m\"\u001b[39m][\u001b[38;5;241m0\u001b[39m][\u001b[38;5;124m\"\u001b[39m\u001b[38;5;124mmessage\u001b[39m\u001b[38;5;124m\"\u001b[39m])\n",
      "\u001b[0;31mUsageError\u001b[0m: Sweep intart/taxi/gah9p0fe is not running"
     ]
    },
    {
     "ename": "",
     "evalue": "",
     "output_type": "error",
     "traceback": [
      "\u001b[1;31mEl kernel se bloqueó al ejecutar código en la celda actual o en una celda anterior. \n",
      "\u001b[1;31mRevise el código de las celdas para identificar una posible causa del error. \n",
      "\u001b[1;31mHaga clic <a href='https://aka.ms/vscodeJupyterKernelCrash'>aquí</a> para obtener más información. \n",
      "\u001b[1;31mVea Jupyter <a href='command:jupyter.viewOutput'>log</a> para obtener más detalles."
     ]
    }
   ],
   "source": [
    "from Agent import Agent\n",
    "import numpy as np\n",
    "import random\n",
    "from taxi_env_extended import TaxiEnvExtended\n",
    "import wandb\n",
    "from tqdm import tqdm\n",
    "\n",
    "def train():\n",
    "    env = TaxiEnvExtended()\n",
    "    Q = np.zeros((env.observation_space.n, env.action_space.n))  # Inicializa tu tabla Q aquí\n",
    "\n",
    "    wandb.init()\n",
    "    config = wandb.config\n",
    "\n",
    "    agent = Agent(env, Qtable=Q, gamma=config.gamma, alpha=config.alpha, epsilon=config.epsilon, randomSeed=config.randomSeed)\n",
    "    # Entrena el agente y registra las métricas\n",
    "    for t in range(10):\n",
    "        trainValue = agent.train(100)\n",
    "        playValue = agent.play(10)\n",
    "        wandb.log({\"trainValue\": trainValue, \"playValue\": playValue, \"t\" : t})\n",
    "\n",
    "sweep_config = {\n",
    "        'name': 'my-sweep',\n",
    "        'method': 'bayes',\n",
    "        'metric': {\n",
    "            'name': 'trainValue',\n",
    "            'goal': 'maximize'\n",
    "        },\n",
    "        'parameters': {\n",
    "            'alpha': {\n",
    "                'distribution': 'uniform',\n",
    "                'min': 0.5,\n",
    "                'max': 0.99\n",
    "            },\n",
    "            'epsilon': {\n",
    "                'distribution': 'uniform',\n",
    "                'min': 0.6,\n",
    "                'max': 0.99\n",
    "            },\n",
    "            'gamma': {\n",
    "                'distribution': 'uniform',\n",
    "                'min': 0.5,\n",
    "                'max': 0.99\n",
    "            },\n",
    "            'randomSeed': {\n",
    "                'distribution': 'int_uniform',\n",
    "                'min': 1,\n",
    "                'max': 100\n",
    "            }\n",
    "        }\n",
    "    }\n",
    "entity = \"intart\"\n",
    "project = \"taxi\"\n",
    "#sweep_id = wandb.sweep(sweep_config, entity=entity, project=project)\n",
    "sweep_id = \"gah9p0fe\"\n",
    "\n",
    "wandb.agent(sweep_id, function=train, count=100, entity=entity, project=project)\n",
    "\n"
   ]
  },
  {
   "cell_type": "code",
   "execution_count": null,
   "metadata": {},
   "outputs": [],
   "source": []
  }
 ],
 "metadata": {
  "kernelspec": {
   "display_name": "Python 3",
   "language": "python",
   "name": "python3"
  },
  "language_info": {
   "codemirror_mode": {
    "name": "ipython",
    "version": 3
   },
   "file_extension": ".py",
   "mimetype": "text/x-python",
   "name": "python",
   "nbconvert_exporter": "python",
   "pygments_lexer": "ipython3",
   "version": "3.1.undefined"
  },
  "orig_nbformat": 4
 },
 "nbformat": 4,
 "nbformat_minor": 2
}
